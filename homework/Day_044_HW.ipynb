{
 "cells": [
  {
   "cell_type": "markdown",
   "metadata": {},
   "source": [
    "## [作業重點]\n",
    "確保你了解隨機森林模型中每個超參數的意義，並觀察調整超參數對結果的影響"
   ]
  },
  {
   "cell_type": "markdown",
   "metadata": {},
   "source": [
    "## 作業\n",
    "\n",
    "1. 試著調整 RandomForestClassifier(...) 中的參數，並觀察是否會改變結果？\n",
    "2. 改用其他資料集 (boston, wine)，並與回歸模型與決策樹的結果進行比較"
   ]
  },
  {
   "cell_type": "code",
   "execution_count": 1,
   "metadata": {},
   "outputs": [],
   "source": [
    "from sklearn import datasets, metrics\n",
    "from sklearn.ensemble import RandomForestClassifier\n",
    "from sklearn.tree import DecisionTreeClassifier, DecisionTreeRegressor\n",
    "from sklearn.model_selection import train_test_split"
   ]
  },
  {
   "cell_type": "code",
   "execution_count": 2,
   "metadata": {},
   "outputs": [],
   "source": [
    "# 讀取資料集\n",
    "wine = datasets.load_wine()\n",
    "\n",
    "# 切分訓練集/測試集\n",
    "x_train, x_test, y_train, y_test = train_test_split(wine.data, wine.target, test_size=0.25, random_state=4)\n",
    "\n",
    "# 建立隨機森林模型 (使用 20 顆樹，每棵樹的最大深度為 4)\n",
    "clf_R = RandomForestClassifier(n_estimators=20, max_depth=None, criterion = 'gini', random_state=4)\n",
    "clf_D = DecisionTreeClassifier(criterion = 'gini',\n",
    "                               max_depth = None,\n",
    "                               min_samples_split = 2,\n",
    "                               min_samples_leaf = 1,\n",
    "                               random_state=4)\n",
    "# 訓練模型\n",
    "clf_R.fit(x_train, y_train)\n",
    "clf_D.fit(x_train, y_train)\n",
    "\n",
    "# 預測測試集\n",
    "y_pred_R = clf_R.predict(x_test)\n",
    "y_pred_D = clf_D.predict(x_test)"
   ]
  },
  {
   "cell_type": "code",
   "execution_count": 3,
   "metadata": {},
   "outputs": [
    {
     "name": "stdout",
     "output_type": "stream",
     "text": [
      "Accuracy_R:  97.8 %\n",
      "Accuracy_D:  88.9 %\n"
     ]
    }
   ],
   "source": [
    "acc_R = metrics.accuracy_score(y_test, y_pred_R)\n",
    "print(\"Accuracy_R: \", round(acc_R*1000)/10, '%')\n",
    "acc_D = metrics.accuracy_score(y_test, y_pred_D)\n",
    "print(\"Accuracy_D: \", round(acc_D*1000)/10, '%')"
   ]
  },
  {
   "cell_type": "code",
   "execution_count": 4,
   "metadata": {},
   "outputs": [
    {
     "name": "stdout",
     "output_type": "stream",
     "text": [
      "['alcohol', 'malic_acid', 'ash', 'alcalinity_of_ash', 'magnesium', 'total_phenols', 'flavanoids', 'nonflavanoid_phenols', 'proanthocyanins', 'color_intensity', 'hue', 'od280/od315_of_diluted_wines', 'proline']\n"
     ]
    }
   ],
   "source": [
    "print(wine.feature_names)"
   ]
  },
  {
   "cell_type": "code",
   "execution_count": 5,
   "metadata": {},
   "outputs": [
    {
     "name": "stdout",
     "output_type": "stream",
     "text": [
      "Feature importance:  [0.16753267 0.01272573 0.02092591 0.02333638 0.04109546 0.03257209\n",
      " 0.14763601 0.00610488 0.01427136 0.12911991 0.05614983 0.16403939\n",
      " 0.18449037]\n",
      "Feature importance:  [0.01364138 0.03076567 0.         0.         0.         0.04296585\n",
      " 0.         0.         0.         0.38107601 0.         0.12444169\n",
      " 0.4071094 ]\n"
     ]
    }
   ],
   "source": [
    "print(\"Feature importance: \", clf_R.feature_importances_)\n",
    "print(\"Feature importance: \", clf_D.feature_importances_)"
   ]
  }
 ],
 "metadata": {
  "kernelspec": {
   "display_name": "Python 3",
   "language": "python",
   "name": "python3"
  },
  "language_info": {
   "codemirror_mode": {
    "name": "ipython",
    "version": 3
   },
   "file_extension": ".py",
   "mimetype": "text/x-python",
   "name": "python",
   "nbconvert_exporter": "python",
   "pygments_lexer": "ipython3",
   "version": "3.6.8"
  }
 },
 "nbformat": 4,
 "nbformat_minor": 2
}
